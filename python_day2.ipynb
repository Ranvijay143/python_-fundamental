{
 "cells": [
  {
   "cell_type": "code",
   "execution_count": 2,
   "metadata": {},
   "outputs": [
    {
     "name": "stdout",
     "output_type": "stream",
     "text": [
      "hi your name is ranvijay\n"
     ]
    }
   ],
   "source": [
    "name=\"ranvijay\"\n",
    "print(\"hi your name is \" +name)\n",
    "\n"
   ]
  },
  {
   "cell_type": "code",
   "execution_count": 17,
   "metadata": {},
   "outputs": [
    {
     "name": "stdout",
     "output_type": "stream",
     "text": [
      "hi your full_name is ranvijayyadav\n",
      "hi your full_name is ranvijayyadav\n",
      "hi your full_name is Ranvijayyadav\n",
      "hi your full_name is ranvijayyadav\n",
      "hi your full_name is RANVIJAYYADAV\n"
     ]
    }
   ],
   "source": [
    "first_name=\"ranvijay\"\n",
    "last_name=\"yadav\"\n",
    "full_name=first_name+last_name\n",
    "print(\"hi your full_name is {}\".format(full_name))\n",
    "print(f\"hi your full_name is {full_name}\")\n",
    "print(f\"hi your full_name is {full_name.title()}\")\n",
    "print(f\"hi your full_name is {full_name.lower()}\")\n",
    "print(f\"hi your full_name is {full_name.upper()}\")"
   ]
  },
  {
   "cell_type": "code",
   "execution_count": null,
   "metadata": {},
   "outputs": [],
   "source": []
  }
 ],
 "metadata": {
  "kernelspec": {
   "display_name": "Python 3",
   "language": "python",
   "name": "python3"
  },
  "language_info": {
   "codemirror_mode": {
    "name": "ipython",
    "version": 3
   },
   "file_extension": ".py",
   "mimetype": "text/x-python",
   "name": "python",
   "nbconvert_exporter": "python",
   "pygments_lexer": "ipython3",
   "version": "3.7.4"
  }
 },
 "nbformat": 4,
 "nbformat_minor": 2
}
