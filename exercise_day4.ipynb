{
 "cells": [
  {
   "cell_type": "code",
   "execution_count": 4,
   "metadata": {},
   "outputs": [
    {
     "name": "stdout",
     "output_type": "stream",
     "text": [
      "['vijay', '23', 'delhi', 'python']\n"
     ]
    }
   ],
   "source": [
    "detail=[\"vijay\",\"23\",\"delhi\",\"python\"] #printitng list\n",
    "print(detail)"
   ]
  },
  {
   "cell_type": "code",
   "execution_count": 5,
   "metadata": {},
   "outputs": [
    {
     "name": "stdout",
     "output_type": "stream",
     "text": [
      "Python\n"
     ]
    }
   ],
   "source": [
    "#detail=[\"vijay\",\"23\",\"delhi\",\"python\"]\n",
    "print(detail[3].title())#accessing the element @ place 3"
   ]
  },
  {
   "cell_type": "code",
   "execution_count": 7,
   "metadata": {},
   "outputs": [
    {
     "name": "stdout",
     "output_type": "stream",
     "text": [
      "Delhi\n"
     ]
    }
   ],
   "source": [
    "#detail=[\"vijay\",\"23\",\"delhi\",\"python\"] #reverse indexing\n",
    "print(detail[-2].title())"
   ]
  },
  {
   "cell_type": "code",
   "execution_count": 19,
   "metadata": {},
   "outputs": [
    {
     "name": "stdout",
     "output_type": "stream",
     "text": [
      "['vijay', '23', 'delhi', 'python', 'begineer']\n"
     ]
    }
   ],
   "source": [
    "#detail=[\"vijay\",\"23\",\"delhi\",\"python\"]#adding element to list\n",
    "detail.append(\"begineer\")\n",
    "print(detail)"
   ]
  },
  {
   "cell_type": "code",
   "execution_count": 20,
   "metadata": {},
   "outputs": [
    {
     "name": "stdout",
     "output_type": "stream",
     "text": [
      "['vijay', '23', 'student', 'delhi', 'python', 'begineer']\n"
     ]
    }
   ],
   "source": [
    "#detail=[\"vijay\",\"23\",\"delhi\",\"python\"]#insert element at specific place\n",
    "detail.insert(2,\"student\")\n",
    "print(detail)"
   ]
  },
  {
   "cell_type": "code",
   "execution_count": 30,
   "metadata": {},
   "outputs": [
    {
     "name": "stdout",
     "output_type": "stream",
     "text": [
      "['vijay', 'student', 'delhi', 'python', 'begineer']\n"
     ]
    }
   ],
   "source": [
    "#removing element by del method\n",
    "detail=['vijay', '23', 'student', 'delhi', 'python', 'begineer']\n",
    "del detail[1]\n",
    "print(detail)"
   ]
  },
  {
   "cell_type": "code",
   "execution_count": 32,
   "metadata": {},
   "outputs": [
    {
     "name": "stdout",
     "output_type": "stream",
     "text": [
      "['vijay', '23', 'student', 'delhi', 'python']\n",
      "['vijay', 'student', 'delhi', 'python']\n"
     ]
    }
   ],
   "source": [
    "#remove element by pop method\n",
    "detail=['vijay', '23', 'student', 'delhi', 'python', 'begineer']\n",
    "detail.pop()\n",
    "print(detail)\n",
    "detail.pop(1)\n",
    "print(detail)"
   ]
  }
 ],
 "metadata": {
  "kernelspec": {
   "display_name": "Python 3",
   "language": "python",
   "name": "python3"
  },
  "language_info": {
   "codemirror_mode": {
    "name": "ipython",
    "version": 3
   },
   "file_extension": ".py",
   "mimetype": "text/x-python",
   "name": "python",
   "nbconvert_exporter": "python",
   "pygments_lexer": "ipython3",
   "version": "3.7.4"
  }
 },
 "nbformat": 4,
 "nbformat_minor": 2
}
