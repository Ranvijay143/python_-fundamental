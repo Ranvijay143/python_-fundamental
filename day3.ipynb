{
 "cells": [
  {
   "cell_type": "code",
   "execution_count": 4,
   "metadata": {},
   "outputs": [
    {
     "name": "stdout",
     "output_type": "stream",
     "text": [
      "Ranvijay Yadav\n",
      "ranvijay yadav\n",
      "RANVIJAY YADAV\n"
     ]
    }
   ],
   "source": [
    " first_name=\"ranvijay\"\n",
    " last_name=\"yadav\"\n",
    " full_name=f\"{first_name} {last_name}\"\n",
    " print(full_name.title())\n",
    " print(full_name)\n",
    " print(full_name.upper())"
   ]
  },
  {
   "cell_type": "code",
   "execution_count": 26,
   "metadata": {},
   "outputs": [
    {
     "name": "stdout",
     "output_type": "stream",
     "text": [
      "Vijay Yadav\n",
      "Vijay Yadav\n",
      "Vijay Yadav\n"
     ]
    }
   ],
   "source": [
    "\n",
    "first_name=\"vijay    \"\n",
    "last_name=\"yadav\"\n",
    "print(f\"{first_name.rstrip()} {last_name}\".title())\n",
    "first_name=\"  vijay\"\n",
    "last_name=\"yadav\"\n",
    "print(f\"{first_name.lstrip()} {last_name}\".title())\n",
    "first_name=\"  vijay\"\n",
    "last_name=\"yadav\"\n",
    "print(f\"{first_name.strip()} {last_name}\".title())"
   ]
  },
  {
   "cell_type": "code",
   "execution_count": 24,
   "metadata": {},
   "outputs": [
    {
     "name": "stdout",
     "output_type": "stream",
     "text": [
      "vijayyadav\n"
     ]
    }
   ],
   "source": [
    "first_name=\"vij   ay\"\n",
    "last_name=\"yadav\"\n",
    "print(f\"{first_name} {last_name}\".replace(\" \", \"\"))"
   ]
  },
  {
   "cell_type": "code",
   "execution_count": 30,
   "metadata": {},
   "outputs": [
    {
     "name": "stdout",
     "output_type": "stream",
     "text": [
      "Hello, Welcome To Python World!,Vijay Yadav\n"
     ]
    }
   ],
   "source": [
    "first_name=\"vijay\"\n",
    "last_name=\"yadav\"\n",
    "print(f\"hello, welcome to python world!,{first_name.lstrip()} {last_name}\".title())"
   ]
  },
  {
   "cell_type": "code",
   "execution_count": 36,
   "metadata": {},
   "outputs": [
    {
     "name": "stdout",
     "output_type": "stream",
     "text": [
      "Details:\n",
      "\tName:\tRanvijay Yadav\n",
      "\tAge:\t23years\n",
      "\tcountry:\tindia\n"
     ]
    }
   ],
   "source": [
    "print(\"Details:\\n\\tName:\\tRanvijay Yadav\\n\\tAge:\\t23years\\n\\tcountry:\\tindia\")"
   ]
  },
  {
   "cell_type": "code",
   "execution_count": null,
   "metadata": {},
   "outputs": [],
   "source": []
  },
  {
   "cell_type": "code",
   "execution_count": null,
   "metadata": {},
   "outputs": [],
   "source": []
  },
  {
   "cell_type": "code",
   "execution_count": null,
   "metadata": {},
   "outputs": [],
   "source": []
  },
  {
   "cell_type": "code",
   "execution_count": null,
   "metadata": {},
   "outputs": [],
   "source": []
  },
  {
   "cell_type": "code",
   "execution_count": null,
   "metadata": {},
   "outputs": [],
   "source": []
  },
  {
   "cell_type": "code",
   "execution_count": null,
   "metadata": {},
   "outputs": [],
   "source": []
  },
  {
   "cell_type": "code",
   "execution_count": null,
   "metadata": {},
   "outputs": [],
   "source": []
  },
  {
   "cell_type": "code",
   "execution_count": null,
   "metadata": {},
   "outputs": [],
   "source": []
  }
 ],
 "metadata": {
  "kernelspec": {
   "display_name": "Python 3",
   "language": "python",
   "name": "python3"
  },
  "language_info": {
   "codemirror_mode": {
    "name": "ipython",
    "version": 3
   },
   "file_extension": ".py",
   "mimetype": "text/x-python",
   "name": "python",
   "nbconvert_exporter": "python",
   "pygments_lexer": "ipython3",
   "version": "3.7.4"
  }
 },
 "nbformat": 4,
 "nbformat_minor": 2
}
